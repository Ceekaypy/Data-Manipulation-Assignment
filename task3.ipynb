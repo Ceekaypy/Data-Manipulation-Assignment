{
 "cells": [
  {
   "cell_type": "markdown",
   "id": "2c01c048",
   "metadata": {},
   "source": [
    "## Task 3: Pizza Sales Analysis"
   ]
  },
  {
   "cell_type": "markdown",
   "id": "56b72e63",
   "metadata": {},
   "source": [
    "### Loading the csv files."
   ]
  },
  {
   "cell_type": "code",
   "execution_count": null,
   "id": "4d76ee5a",
   "metadata": {},
   "outputs": [],
   "source": [
    "import pandas as pd # importing pandas\n",
    "\n",
    "import matplotlib.pyplot as plt # importing matplotlib\n",
    "\n",
    "orders = pd.read_csv('../Downloads/Pizza+Place+Sales/pizza_sales/orders.csv')\n",
    "order_details = pd.read_csv('../Downloads/Pizza+Place+Sales/pizza_sales/order_details.csv')\n",
    "pizzas = pd.read_csv('../Downloads/Pizza+Place+Sales/pizza_sales/pizzas.csv')\n",
    "pizza_types = pd.read_csv('../Downloads/Pizza+Place+Sales/pizza_sales/pizza_types.csv', encoding=\"latin-1\") \n"
   ]
  },
  {
   "cell_type": "code",
   "execution_count": null,
   "id": "d1c01d68",
   "metadata": {},
   "outputs": [
    {
     "data": {
      "text/html": [
       "<div>\n",
       "<style scoped>\n",
       "    .dataframe tbody tr th:only-of-type {\n",
       "        vertical-align: middle;\n",
       "    }\n",
       "\n",
       "    .dataframe tbody tr th {\n",
       "        vertical-align: top;\n",
       "    }\n",
       "\n",
       "    .dataframe thead th {\n",
       "        text-align: right;\n",
       "    }\n",
       "</style>\n",
       "<table border=\"1\" class=\"dataframe\">\n",
       "  <thead>\n",
       "    <tr style=\"text-align: right;\">\n",
       "      <th></th>\n",
       "      <th>order_id</th>\n",
       "      <th>date</th>\n",
       "      <th>time</th>\n",
       "    </tr>\n",
       "  </thead>\n",
       "  <tbody>\n",
       "    <tr>\n",
       "      <th>0</th>\n",
       "      <td>1</td>\n",
       "      <td>2015-01-01</td>\n",
       "      <td>11:38:36</td>\n",
       "    </tr>\n",
       "    <tr>\n",
       "      <th>1</th>\n",
       "      <td>2</td>\n",
       "      <td>2015-01-01</td>\n",
       "      <td>11:57:40</td>\n",
       "    </tr>\n",
       "    <tr>\n",
       "      <th>2</th>\n",
       "      <td>3</td>\n",
       "      <td>2015-01-01</td>\n",
       "      <td>12:12:28</td>\n",
       "    </tr>\n",
       "    <tr>\n",
       "      <th>3</th>\n",
       "      <td>4</td>\n",
       "      <td>2015-01-01</td>\n",
       "      <td>12:16:31</td>\n",
       "    </tr>\n",
       "    <tr>\n",
       "      <th>4</th>\n",
       "      <td>5</td>\n",
       "      <td>2015-01-01</td>\n",
       "      <td>12:21:30</td>\n",
       "    </tr>\n",
       "  </tbody>\n",
       "</table>\n",
       "</div>"
      ],
      "text/plain": [
       "   order_id        date      time\n",
       "0         1  2015-01-01  11:38:36\n",
       "1         2  2015-01-01  11:57:40\n",
       "2         3  2015-01-01  12:12:28\n",
       "3         4  2015-01-01  12:16:31\n",
       "4         5  2015-01-01  12:21:30"
      ]
     },
     "execution_count": 7,
     "metadata": {},
     "output_type": "execute_result"
    }
   ],
   "source": [
    "orders.head() # To view orders"
   ]
  },
  {
   "cell_type": "code",
   "execution_count": 9,
   "id": "782546f1",
   "metadata": {},
   "outputs": [
    {
     "data": {
      "text/html": [
       "<div>\n",
       "<style scoped>\n",
       "    .dataframe tbody tr th:only-of-type {\n",
       "        vertical-align: middle;\n",
       "    }\n",
       "\n",
       "    .dataframe tbody tr th {\n",
       "        vertical-align: top;\n",
       "    }\n",
       "\n",
       "    .dataframe thead th {\n",
       "        text-align: right;\n",
       "    }\n",
       "</style>\n",
       "<table border=\"1\" class=\"dataframe\">\n",
       "  <thead>\n",
       "    <tr style=\"text-align: right;\">\n",
       "      <th></th>\n",
       "      <th>order_details_id</th>\n",
       "      <th>order_id</th>\n",
       "      <th>pizza_id</th>\n",
       "      <th>quantity</th>\n",
       "    </tr>\n",
       "  </thead>\n",
       "  <tbody>\n",
       "    <tr>\n",
       "      <th>0</th>\n",
       "      <td>1</td>\n",
       "      <td>1</td>\n",
       "      <td>hawaiian_m</td>\n",
       "      <td>1</td>\n",
       "    </tr>\n",
       "    <tr>\n",
       "      <th>1</th>\n",
       "      <td>2</td>\n",
       "      <td>2</td>\n",
       "      <td>classic_dlx_m</td>\n",
       "      <td>1</td>\n",
       "    </tr>\n",
       "    <tr>\n",
       "      <th>2</th>\n",
       "      <td>3</td>\n",
       "      <td>2</td>\n",
       "      <td>five_cheese_l</td>\n",
       "      <td>1</td>\n",
       "    </tr>\n",
       "    <tr>\n",
       "      <th>3</th>\n",
       "      <td>4</td>\n",
       "      <td>2</td>\n",
       "      <td>ital_supr_l</td>\n",
       "      <td>1</td>\n",
       "    </tr>\n",
       "    <tr>\n",
       "      <th>4</th>\n",
       "      <td>5</td>\n",
       "      <td>2</td>\n",
       "      <td>mexicana_m</td>\n",
       "      <td>1</td>\n",
       "    </tr>\n",
       "  </tbody>\n",
       "</table>\n",
       "</div>"
      ],
      "text/plain": [
       "   order_details_id  order_id       pizza_id  quantity\n",
       "0                 1         1     hawaiian_m         1\n",
       "1                 2         2  classic_dlx_m         1\n",
       "2                 3         2  five_cheese_l         1\n",
       "3                 4         2    ital_supr_l         1\n",
       "4                 5         2     mexicana_m         1"
      ]
     },
     "execution_count": 9,
     "metadata": {},
     "output_type": "execute_result"
    }
   ],
   "source": [
    "order_details.head() # To view order_details"
   ]
  },
  {
   "cell_type": "code",
   "execution_count": null,
   "id": "a58f3d16",
   "metadata": {},
   "outputs": [],
   "source": [
    "pizzas.head()"
   ]
  },
  {
   "cell_type": "code",
   "execution_count": null,
   "id": "8e04a319",
   "metadata": {},
   "outputs": [],
   "source": [
    "pizza_types.head()"
   ]
  },
  {
   "cell_type": "markdown",
   "id": "8a2bd9a9",
   "metadata": {},
   "source": [
    "## Merging of the datasets"
   ]
  },
  {
   "cell_type": "code",
   "execution_count": 33,
   "id": "25c1a4d6",
   "metadata": {},
   "outputs": [
    {
     "name": "stderr",
     "output_type": "stream",
     "text": [
      "C:\\Users\\Hp\\AppData\\Local\\Temp\\ipykernel_6700\\1322273196.py:12: UserWarning: Could not infer format, so each element will be parsed individually, falling back to `dateutil`. To ensure parsing is consistent and as-expected, please specify a format.\n",
      "  full_data[\"time\"] = pd.to_datetime(full_data[\"time\"]).dt.time\n"
     ]
    }
   ],
   "source": [
    "# Merging order_details to pizzas to get prices\n",
    "details_prices = pd.merge(order_details,pizzas, on=\"pizza_id\")\n",
    "\n",
    "# Merging with orders to get date/time\n",
    "full_data = pd.merge(details_prices, orders, on= \"order_id\")\n",
    "\n",
    "# Merging with pizza_types to get pizza category and ingredients\n",
    "full_data = pd.merge(full_data, pizza_types, on= \"pizza_type_id\")\n",
    "\n",
    "# Converting data/time columns\n",
    "full_data[\"date\"] = pd.to_datetime(full_data[\"date\"])\n",
    "full_data[\"time\"] = pd.to_datetime(full_data[\"time\"]).dt.time\n"
   ]
  },
  {
   "cell_type": "code",
   "execution_count": 35,
   "id": "67678807",
   "metadata": {},
   "outputs": [
    {
     "data": {
      "text/html": [
       "<div>\n",
       "<style scoped>\n",
       "    .dataframe tbody tr th:only-of-type {\n",
       "        vertical-align: middle;\n",
       "    }\n",
       "\n",
       "    .dataframe tbody tr th {\n",
       "        vertical-align: top;\n",
       "    }\n",
       "\n",
       "    .dataframe thead th {\n",
       "        text-align: right;\n",
       "    }\n",
       "</style>\n",
       "<table border=\"1\" class=\"dataframe\">\n",
       "  <thead>\n",
       "    <tr style=\"text-align: right;\">\n",
       "      <th></th>\n",
       "      <th>order_details_id</th>\n",
       "      <th>order_id</th>\n",
       "      <th>pizza_id</th>\n",
       "      <th>quantity</th>\n",
       "      <th>pizza_type_id</th>\n",
       "      <th>size</th>\n",
       "      <th>price</th>\n",
       "      <th>date</th>\n",
       "      <th>time</th>\n",
       "      <th>name</th>\n",
       "      <th>category</th>\n",
       "      <th>ingredients</th>\n",
       "    </tr>\n",
       "  </thead>\n",
       "  <tbody>\n",
       "    <tr>\n",
       "      <th>0</th>\n",
       "      <td>1</td>\n",
       "      <td>1</td>\n",
       "      <td>hawaiian_m</td>\n",
       "      <td>1</td>\n",
       "      <td>hawaiian</td>\n",
       "      <td>M</td>\n",
       "      <td>13.25</td>\n",
       "      <td>2015-01-01</td>\n",
       "      <td>11:38:36</td>\n",
       "      <td>The Hawaiian Pizza</td>\n",
       "      <td>Classic</td>\n",
       "      <td>Sliced Ham, Pineapple, Mozzarella Cheese</td>\n",
       "    </tr>\n",
       "    <tr>\n",
       "      <th>1</th>\n",
       "      <td>2</td>\n",
       "      <td>2</td>\n",
       "      <td>classic_dlx_m</td>\n",
       "      <td>1</td>\n",
       "      <td>classic_dlx</td>\n",
       "      <td>M</td>\n",
       "      <td>16.00</td>\n",
       "      <td>2015-01-01</td>\n",
       "      <td>11:57:40</td>\n",
       "      <td>The Classic Deluxe Pizza</td>\n",
       "      <td>Classic</td>\n",
       "      <td>Pepperoni, Mushrooms, Red Onions, Red Peppers,...</td>\n",
       "    </tr>\n",
       "    <tr>\n",
       "      <th>2</th>\n",
       "      <td>3</td>\n",
       "      <td>2</td>\n",
       "      <td>five_cheese_l</td>\n",
       "      <td>1</td>\n",
       "      <td>five_cheese</td>\n",
       "      <td>L</td>\n",
       "      <td>18.50</td>\n",
       "      <td>2015-01-01</td>\n",
       "      <td>11:57:40</td>\n",
       "      <td>The Five Cheese Pizza</td>\n",
       "      <td>Veggie</td>\n",
       "      <td>Mozzarella Cheese, Provolone Cheese, Smoked Go...</td>\n",
       "    </tr>\n",
       "    <tr>\n",
       "      <th>3</th>\n",
       "      <td>4</td>\n",
       "      <td>2</td>\n",
       "      <td>ital_supr_l</td>\n",
       "      <td>1</td>\n",
       "      <td>ital_supr</td>\n",
       "      <td>L</td>\n",
       "      <td>20.75</td>\n",
       "      <td>2015-01-01</td>\n",
       "      <td>11:57:40</td>\n",
       "      <td>The Italian Supreme Pizza</td>\n",
       "      <td>Supreme</td>\n",
       "      <td>Calabrese Salami, Capocollo, Tomatoes, Red Oni...</td>\n",
       "    </tr>\n",
       "    <tr>\n",
       "      <th>4</th>\n",
       "      <td>5</td>\n",
       "      <td>2</td>\n",
       "      <td>mexicana_m</td>\n",
       "      <td>1</td>\n",
       "      <td>mexicana</td>\n",
       "      <td>M</td>\n",
       "      <td>16.00</td>\n",
       "      <td>2015-01-01</td>\n",
       "      <td>11:57:40</td>\n",
       "      <td>The Mexicana Pizza</td>\n",
       "      <td>Veggie</td>\n",
       "      <td>Tomatoes, Red Peppers, Jalapeno Peppers, Red O...</td>\n",
       "    </tr>\n",
       "  </tbody>\n",
       "</table>\n",
       "</div>"
      ],
      "text/plain": [
       "   order_details_id  order_id       pizza_id  quantity pizza_type_id size  \\\n",
       "0                 1         1     hawaiian_m         1      hawaiian    M   \n",
       "1                 2         2  classic_dlx_m         1   classic_dlx    M   \n",
       "2                 3         2  five_cheese_l         1   five_cheese    L   \n",
       "3                 4         2    ital_supr_l         1     ital_supr    L   \n",
       "4                 5         2     mexicana_m         1      mexicana    M   \n",
       "\n",
       "   price       date      time                       name category  \\\n",
       "0  13.25 2015-01-01  11:38:36         The Hawaiian Pizza  Classic   \n",
       "1  16.00 2015-01-01  11:57:40   The Classic Deluxe Pizza  Classic   \n",
       "2  18.50 2015-01-01  11:57:40      The Five Cheese Pizza   Veggie   \n",
       "3  20.75 2015-01-01  11:57:40  The Italian Supreme Pizza  Supreme   \n",
       "4  16.00 2015-01-01  11:57:40         The Mexicana Pizza   Veggie   \n",
       "\n",
       "                                         ingredients  \n",
       "0           Sliced Ham, Pineapple, Mozzarella Cheese  \n",
       "1  Pepperoni, Mushrooms, Red Onions, Red Peppers,...  \n",
       "2  Mozzarella Cheese, Provolone Cheese, Smoked Go...  \n",
       "3  Calabrese Salami, Capocollo, Tomatoes, Red Oni...  \n",
       "4  Tomatoes, Red Peppers, Jalapeno Peppers, Red O...  "
      ]
     },
     "execution_count": 35,
     "metadata": {},
     "output_type": "execute_result"
    }
   ],
   "source": [
    "full_data.head()"
   ]
  },
  {
   "cell_type": "code",
   "execution_count": 20,
   "id": "481bdae5",
   "metadata": {},
   "outputs": [
    {
     "data": {
      "text/plain": [
       "np.int64(0)"
      ]
     },
     "execution_count": 20,
     "metadata": {},
     "output_type": "execute_result"
    }
   ],
   "source": [
    "full_data.duplicated().sum()"
   ]
  },
  {
   "cell_type": "code",
   "execution_count": 36,
   "id": "6be2549c",
   "metadata": {},
   "outputs": [
    {
     "name": "stdout",
     "output_type": "stream",
     "text": [
      "<class 'pandas.core.frame.DataFrame'>\n",
      "RangeIndex: 48620 entries, 0 to 48619\n",
      "Data columns (total 12 columns):\n",
      " #   Column            Non-Null Count  Dtype         \n",
      "---  ------            --------------  -----         \n",
      " 0   order_details_id  48620 non-null  int64         \n",
      " 1   order_id          48620 non-null  int64         \n",
      " 2   pizza_id          48620 non-null  object        \n",
      " 3   quantity          48620 non-null  int64         \n",
      " 4   pizza_type_id     48620 non-null  object        \n",
      " 5   size              48620 non-null  object        \n",
      " 6   price             48620 non-null  float64       \n",
      " 7   date              48620 non-null  datetime64[ns]\n",
      " 8   time              48620 non-null  object        \n",
      " 9   name              48620 non-null  object        \n",
      " 10  category          48620 non-null  object        \n",
      " 11  ingredients       48620 non-null  object        \n",
      "dtypes: datetime64[ns](1), float64(1), int64(3), object(7)\n",
      "memory usage: 4.5+ MB\n"
     ]
    }
   ],
   "source": [
    "full_data.info()"
   ]
  },
  {
   "cell_type": "markdown",
   "id": "980fb227",
   "metadata": {},
   "source": [
    "### 1. What is the total revenue/sales ?"
   ]
  },
  {
   "cell_type": "code",
   "execution_count": 37,
   "id": "a74ab49a",
   "metadata": {},
   "outputs": [
    {
     "name": "stdout",
     "output_type": "stream",
     "text": [
      "The total revenue is: 817860.05\n"
     ]
    }
   ],
   "source": [
    "# Calculating the revenue for each other item\n",
    "full_data['item_revenue'] = full_data['price'] * full_data['quantity']\n",
    "# Calculating the total revenue\n",
    "total_revenue = full_data['item_revenue'].sum()\n",
    "\n",
    "print(f\"The total revenue is: {total_revenue:.2f}\")"
   ]
  },
  {
   "cell_type": "markdown",
   "id": "e9fb9510",
   "metadata": {},
   "source": [
    "### 2.Find the total quantity sold"
   ]
  },
  {
   "cell_type": "code",
   "execution_count": 38,
   "id": "9ac4fe6f",
   "metadata": {},
   "outputs": [
    {
     "name": "stdout",
     "output_type": "stream",
     "text": [
      "The total quantity of pizzas sold is: 49574\n"
     ]
    }
   ],
   "source": [
    "# To calculate the total quantity\n",
    "total_quantity_sold = full_data['quantity'].sum()\n",
    "\n",
    "# Print the total quantity sold\n",
    "print(f\"The total quantity of pizzas sold is: {total_quantity_sold}\")"
   ]
  },
  {
   "cell_type": "markdown",
   "id": "92956ce9",
   "metadata": {},
   "source": [
    "### 3. Find the total orders"
   ]
  },
  {
   "cell_type": "code",
   "execution_count": 39,
   "id": "f184b990",
   "metadata": {},
   "outputs": [
    {
     "name": "stdout",
     "output_type": "stream",
     "text": [
      "The total number of orders is: 21350\n"
     ]
    }
   ],
   "source": [
    "# We use the unique order IDs to find and sum the total orders\n",
    "total_orders = full_data['order_id'].nunique()\n",
    "\n",
    "# Print the total number of orders\n",
    "print(f\"The total number of orders is: {total_orders}\")"
   ]
  },
  {
   "cell_type": "markdown",
   "id": "35f24749",
   "metadata": {},
   "source": [
    "### 4. How many pizza types do they sell?"
   ]
  },
  {
   "cell_type": "code",
   "execution_count": 40,
   "id": "2ade01c9",
   "metadata": {},
   "outputs": [
    {
     "name": "stdout",
     "output_type": "stream",
     "text": [
      "The total number of pizza types they sell is: 32\n"
     ]
    }
   ],
   "source": [
    "# To  calculate the sypes of pizza, we find the number of unique pizza type IDs\n",
    "number_of_pizza_types = full_data['pizza_type_id'].nunique()\n",
    "\n",
    "# Print the total number of pizza types\n",
    "print(f\"The total number of pizza types they sell is: {number_of_pizza_types}\")"
   ]
  },
  {
   "cell_type": "markdown",
   "id": "97885192",
   "metadata": {},
   "source": [
    "### 5.\tFind the average price of the pizzas."
   ]
  },
  {
   "cell_type": "code",
   "execution_count": 31,
   "id": "910d0b06",
   "metadata": {},
   "outputs": [
    {
     "name": "stdout",
     "output_type": "stream",
     "text": [
      "The average price of the pizzas is: $16.49\n"
     ]
    }
   ],
   "source": [
    "# To calculate the average price of the pizzas\n",
    "average_price = full_data['price'].mean()\n",
    "\n",
    "# Print the average price\n",
    "print(f\"The average price of the pizzas is: ${average_price:.2f}\")"
   ]
  },
  {
   "cell_type": "markdown",
   "id": "22b3fa7c",
   "metadata": {},
   "source": [
    "### 6. What are the peak hours of sale?"
   ]
  },
  {
   "cell_type": "code",
   "execution_count": 41,
   "id": "497a1ad3",
   "metadata": {},
   "outputs": [
    {
     "name": "stdout",
     "output_type": "stream",
     "text": [
      "The peak hour(s) of sales are: 12:00 - 13:00\n",
      "Number of orders during peak hour(s): 6543\n"
     ]
    }
   ],
   "source": [
    "# To extract the hour from the time column\n",
    "full_data['hour'] = full_data['time'].apply(lambda x: x.hour)\n",
    "\n",
    "# To count and group the number of orders by per hour\n",
    "sales_by_hour = full_data.groupby('hour')['order_id'].count()\n",
    "\n",
    "# To identify the peak hours\n",
    "peak_sales_count = sales_by_hour.max()\n",
    "peak_hours = sales_by_hour[sales_by_hour == peak_sales_count].index.tolist()\n",
    "\n",
    "# Format the peak hours for better readability\n",
    "peak_hours_formatted = [f\"{hour:02d}:00 - {(hour + 1):02d}:00\" for hour in peak_hours]\n",
    "\n",
    "print(f\"The peak hour(s) of sales are: {', '.join(peak_hours_formatted)}\")\n",
    "print(f\"Number of orders during peak hour(s): {peak_sales_count}\")"
   ]
  },
  {
   "cell_type": "markdown",
   "id": "278a6a8a",
   "metadata": {},
   "source": [
    "### 7. Find the total sales made on each day of the week. Which day of the week is when sales are made the most?"
   ]
  },
  {
   "cell_type": "code",
   "execution_count": 42,
   "id": "70a4a072",
   "metadata": {},
   "outputs": [
    {
     "name": "stdout",
     "output_type": "stream",
     "text": [
      "Total sales for each day of the week:\n",
      "day_of_week\n",
      "Monday       107329.55\n",
      "Tuesday      114133.80\n",
      "Wednesday    114408.40\n",
      "Thursday     123528.50\n",
      "Friday       136073.90\n",
      "Saturday     123182.40\n",
      "Sunday        99203.50\n",
      "Name: item_revenue, dtype: float64\n",
      "\n",
      "The day with the most sales is: Friday with a total of $136073.90\n"
     ]
    }
   ],
   "source": [
    "# To get the day of the week\n",
    "full_data['day_of_week'] = full_data['date'].dt.day_name()\n",
    "\n",
    "# To get the revenue(although i already did earlier)\n",
    "full_data['item_revenue'] = full_data['price'] * full_data['quantity']\n",
    "\n",
    "# To group by day of the week and sum the revenue\n",
    "sales_by_day = full_data.groupby('day_of_week')['item_revenue'].sum()\n",
    "\n",
    "# To order the days of the week\n",
    "days_order = ['Monday', 'Tuesday', 'Wednesday', 'Thursday', 'Friday', 'Saturday', 'Sunday']\n",
    "sales_by_day = sales_by_day.reindex(days_order)\n",
    "\n",
    "# To find the day with the most sales\n",
    "peak_sales_day = sales_by_day.idxmax()\n",
    "peak_sales_amount = sales_by_day.max()\n",
    "\n",
    "print(\"Total sales for each day of the week:\")\n",
    "print(sales_by_day)\n",
    "print(f\"\\nThe day with the most sales is: {peak_sales_day} with a total of ${peak_sales_amount:.2f}\")\n"
   ]
  },
  {
   "cell_type": "markdown",
   "id": "c4a2d303",
   "metadata": {},
   "source": [
    "### 8.\tFind the top 5 bestselling pizzas."
   ]
  },
  {
   "cell_type": "code",
   "execution_count": 49,
   "id": "db6d85a2",
   "metadata": {},
   "outputs": [
    {
     "name": "stdout",
     "output_type": "stream",
     "text": [
      "Index(['pizza_id', 'pizza_type_id', 'size', 'price'], dtype='object')\n",
      "Top 5 Bestselling Pizzas:\n",
      "        pizza_id                pizza_name  order_count\n",
      "0     big_meat_s        The Big Meat Pizza         1811\n",
      "1     thai_ckn_l    The Thai Chicken Pizza         1365\n",
      "2  five_cheese_l     The Five Cheese Pizza         1359\n",
      "3  four_cheese_l     The Four Cheese Pizza         1273\n",
      "4  classic_dlx_m  The Classic Deluxe Pizza         1159\n"
     ]
    }
   ],
   "source": [
    "print(pizzas.columns)\n",
    "\n",
    "# Convert the Series to a DataFrame\n",
    "top_5_pizza_counts_df = top_5_pizza_counts.reset_index()\n",
    "top_5_pizza_counts_df.columns = ['pizza_id', 'order_count']\n",
    "\n",
    "# Merge with the 'pizzas' DataFrame to get 'pizza_type_id'\n",
    "top_5_pizzas_with_type = pd.merge(top_5_pizza_counts_df, pizzas, on='pizza_id')\n",
    "\n",
    "# Merge with the 'pizza_types' DataFrame to get the pizza names\n",
    "top_5_bestselling_pizzas = pd.merge(top_5_pizzas_with_type, pizza_types, on='pizza_type_id')\n",
    "\n",
    "# Select and order the desired columns\n",
    "top_5_bestselling_pizzas = top_5_bestselling_pizzas[['pizza_id', 'name', 'order_count']]\n",
    "top_5_bestselling_pizzas.rename(columns={'name': 'pizza_name'}, inplace=True)\n",
    "\n",
    "# Print the top 5 bestselling pizzas\n",
    "print(\"Top 5 Bestselling Pizzas:\")\n",
    "print(top_5_bestselling_pizzas)"
   ]
  },
  {
   "cell_type": "markdown",
   "id": "214824a3",
   "metadata": {},
   "source": [
    "### 9.\tFind the sales made in each month. Any trend noticeable?"
   ]
  },
  {
   "cell_type": "code",
   "execution_count": 50,
   "id": "39ad9a23",
   "metadata": {},
   "outputs": [
    {
     "name": "stdout",
     "output_type": "stream",
     "text": [
      "Total Sales by Month:\n",
      "month\n",
      "January      69793.30\n",
      "February     65159.60\n",
      "March        70397.10\n",
      "April        68736.80\n",
      "May          71402.75\n",
      "June         68230.20\n",
      "July         72557.90\n",
      "August       68278.25\n",
      "September    64180.05\n",
      "October      64027.60\n",
      "November     70395.35\n",
      "December     64701.15\n",
      "dtype: float64\n",
      "\n",
      "Trend Analysis:\n",
      "The sales trend appears to be fluctuating across the months.\n",
      "\n",
      "The month with the highest sales is July with a total of $72557.90.\n"
     ]
    }
   ],
   "source": [
    "# 1. Extract the month from the 'date' column\n",
    "full_data['month'] = full_data['date'].dt.month\n",
    "\n",
    "# 2. Calculate the total revenue for each month\n",
    "sales_by_month = full_data.groupby('month')['item_revenue'].sum()\n",
    "\n",
    "# 3. Present the sales by month with month names for better readability\n",
    "month_names = pd.to_datetime(sales_by_month.index, format='%m').strftime('%B')\n",
    "sales_by_month_named = pd.Series(sales_by_month.values, index=month_names)\n",
    "\n",
    "print(\"Total Sales by Month:\")\n",
    "print(sales_by_month_named)\n",
    "\n",
    "# 4. Analyze for trends (this will be based on the output)\n",
    "print(\"\\nTrend Analysis:\")\n",
    "if len(sales_by_month) > 2:\n",
    "    # You can implement more sophisticated trend analysis here,\n",
    "    # but for a basic check, we can look for increasing or decreasing patterns.\n",
    "    sales_diff = sales_by_month.diff().dropna()\n",
    "    if all(sales_diff > 0):\n",
    "        print(\"There is a general increasing trend in sales over the months.\")\n",
    "    elif all(sales_diff < 0):\n",
    "        print(\"There is a general decreasing trend in sales over the months.\")\n",
    "    else:\n",
    "        print(\"The sales trend appears to be fluctuating across the months.\")\n",
    "else:\n",
    "    print(\"Insufficient data to determine a clear trend.\")\n",
    "\n",
    "    # To find the month with the highest sales\n",
    "if not sales_by_month.empty:\n",
    "    peak_month = sales_by_month.idxmax()\n",
    "    peak_month_name = pd.to_datetime([peak_month], format='%m').strftime('%B')[0]\n",
    "    peak_sales = sales_by_month.max()\n",
    "    print(f\"\\nThe month with the highest sales is {peak_month_name} with a total of ${peak_sales:.2f}.\")\n",
    "else:\n",
    "    print(\"\\nNo sales data available to determine the peak month.\")\n"
   ]
  },
  {
   "cell_type": "markdown",
   "id": "4a06102b",
   "metadata": {},
   "source": [
    "### 10.\tAre there pizza types that are not doing well on the menu?"
   ]
  },
  {
   "cell_type": "code",
   "execution_count": 54,
   "id": "0c0a7b06",
   "metadata": {},
   "outputs": [
    {
     "name": "stdout",
     "output_type": "stream",
     "text": [
      "\n",
      "Pizza Types with the Lowest Total Revenue:\n",
      "  pizza_type_id                 pizza_name  total_revenue\n",
      "0    brie_carre       The Brie Carre Pizza       11588.50\n",
      "1  green_garden     The Green Garden Pizza       13955.75\n",
      "2  spinach_supr  The Spinach Supreme Pizza       15277.75\n",
      "3  mediterraneo    The Mediterranean Pizza       15360.50\n",
      "4    spin_pesto    The Spinach Pesto Pizza       15596.00\n"
     ]
    }
   ],
   "source": [
    "# To calculate the total revenue for each pizza type ID\n",
    "pizza_type_revenue = full_data.groupby('pizza_type_id')['item_revenue'].sum().sort_values(ascending=True)\n",
    "\n",
    "# To identify the pizza types with the lowest revenue (e.g., bottom 5)\n",
    "lowest_revenue_pizza_types_ids = pizza_type_revenue.head()\n",
    "\n",
    "# To merge with 'pizza_types' to get the names\n",
    "lowest_revenue_pizza_types = pd.merge(lowest_revenue_pizza_types_ids.reset_index(), pizza_types, left_on='pizza_type_id', right_on='pizza_type_id')\n",
    "lowest_revenue_pizza_types.rename(columns={'pizza_type_id': 'pizza_type_id', 'item_revenue': 'total_revenue', 'name': 'pizza_name'}, inplace=True)\n",
    "\n",
    "print(\"\\nPizza Types with the Lowest Total Revenue:\")\n",
    "print(lowest_revenue_pizza_types[['pizza_type_id', 'pizza_name', 'total_revenue']])"
   ]
  },
  {
   "cell_type": "markdown",
   "id": "67a5ccef",
   "metadata": {},
   "source": [
    "### Exploring the data\n",
    "### Are there any pizza sizes that are consistently underperforming for specific pizza types?"
   ]
  },
  {
   "cell_type": "code",
   "execution_count": 55,
   "id": "8240bf85",
   "metadata": {},
   "outputs": [
    {
     "name": "stdout",
     "output_type": "stream",
     "text": [
      "Underperforming Pizza Sizes for Specific Pizza Types (based on order count):\n",
      "                   pizza_type size  order_count\n",
      "13  The Chicken Alfredo Pizza    S           96\n",
      "87            The Greek Pizza  XXL           28\n",
      "23     The Green Garden Pizza    L           94\n"
     ]
    },
    {
     "name": "stderr",
     "output_type": "stream",
     "text": [
      "C:\\Users\\Hp\\AppData\\Local\\Temp\\ipykernel_6700\\2832365760.py:17: DeprecationWarning: DataFrameGroupBy.apply operated on the grouping columns. This behavior is deprecated, and in a future version of pandas the grouping columns will be excluded from the operation. Either pass `include_groups=False` to exclude the groupings or explicitly select the grouping columns after groupby to silence this warning.\n",
      "  underperforming_sizes = size_performance_with_names.groupby('pizza_name').apply(identify_underperforming_sizes).reset_index(level=0)\n"
     ]
    }
   ],
   "source": [
    "# To group by pizza_type_id and size and count orders\n",
    "size_performance = full_data.groupby(['pizza_type_id', 'size'])['order_id'].count().reset_index()\n",
    "size_performance.rename(columns={'order_id': 'order_count'}, inplace=True)\n",
    "\n",
    "# To merge with 'pizza_types' to get pizza names\n",
    "size_performance_with_names = pd.merge(size_performance, pizza_types, on='pizza_type_id')\n",
    "size_performance_with_names.rename(columns={'name': 'pizza_name'}, inplace=True)\n",
    "\n",
    "# To analyze for underperforming sizes within each pizza type\n",
    "def identify_underperforming_sizes(df):\n",
    "    total_orders = df['order_count'].sum()\n",
    "    # To define a threshold for underperformance (e.g., less than 10% of the total orders for this pizza type)\n",
    "    threshold = total_orders * 0.10\n",
    "    underperforming = df[df['order_count'] < threshold]\n",
    "    return underperforming[['size', 'order_count']]\n",
    "\n",
    "underperforming_sizes = size_performance_with_names.groupby('pizza_name').apply(identify_underperforming_sizes).reset_index(level=0)\n",
    "underperforming_sizes.rename(columns={'pizza_name': 'pizza_type'}, inplace=True)\n",
    "\n",
    "print(\"Underperforming Pizza Sizes for Specific Pizza Types (based on order count):\")\n",
    "if not underperforming_sizes.empty:\n",
    "    print(underperforming_sizes)\n",
    "else:\n",
    "    print(\"No consistently underperforming pizza sizes found based on the current threshold.\")"
   ]
  },
  {
   "cell_type": "markdown",
   "id": "80595c82",
   "metadata": {},
   "source": [
    "### What are the most popular pizza combinations (size + type)?"
   ]
  },
  {
   "cell_type": "code",
   "execution_count": 56,
   "id": "f8a4cd8f",
   "metadata": {},
   "outputs": [
    {
     "name": "stdout",
     "output_type": "stream",
     "text": [
      "Most Popular Pizza Combinations (Size + Type):\n",
      "                    pizza_name size  order_count\n",
      "0           The Big Meat Pizza    S         1811\n",
      "1       The Thai Chicken Pizza    L         1365\n",
      "2        The Five Cheese Pizza    L         1359\n",
      "3        The Four Cheese Pizza    L         1273\n",
      "4     The Classic Deluxe Pizza    M         1159\n",
      "5      The Spicy Italian Pizza    L         1088\n",
      "6           The Hawaiian Pizza    S         1001\n",
      "7  The Southwest Chicken Pizza    L          993\n",
      "8   The Barbecue Chicken Pizza    L          967\n",
      "9   The Barbecue Chicken Pizza    M          926\n"
     ]
    }
   ],
   "source": [
    "# To group by pizza_type_id and size and count the number of orders\n",
    "popular_combinations = full_data.groupby(['pizza_type_id', 'size'])['order_id'].count().sort_values(ascending=False).reset_index()\n",
    "popular_combinations.rename(columns={'order_id': 'order_count'}, inplace=True)\n",
    "\n",
    "# To merge with 'pizza_types' to get pizza names\n",
    "popular_combinations_with_names = pd.merge(popular_combinations, pizza_types, on='pizza_type_id')\n",
    "popular_combinations_with_names.rename(columns={'name': 'pizza_name'}, inplace=True)\n",
    "\n",
    "# To display the most popular combinations (e.g., top 5 or top 10)\n",
    "top_popular_combinations = popular_combinations_with_names.head(10) # You can adjust the number here\n",
    "\n",
    "print(\"Most Popular Pizza Combinations (Size + Type):\")\n",
    "print(top_popular_combinations[['pizza_name', 'size', 'order_count']])"
   ]
  }
 ],
 "metadata": {
  "kernelspec": {
   "display_name": ".venv",
   "language": "python",
   "name": "python3"
  },
  "language_info": {
   "codemirror_mode": {
    "name": "ipython",
    "version": 3
   },
   "file_extension": ".py",
   "mimetype": "text/x-python",
   "name": "python",
   "nbconvert_exporter": "python",
   "pygments_lexer": "ipython3",
   "version": "3.11.9"
  }
 },
 "nbformat": 4,
 "nbformat_minor": 5
}
